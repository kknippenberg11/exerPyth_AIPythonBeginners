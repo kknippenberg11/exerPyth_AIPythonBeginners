{
 "cells": [
  {
   "cell_type": "markdown",
   "id": "817221c9",
   "metadata": {},
   "source": [
    "# L9: Building LLM prompts with variables"
   ]
  },
  {
   "cell_type": "markdown",
   "id": "36029c06",
   "metadata": {},
   "source": [
    "In the next cell, you will import the function `print_llm_response` that uses an LLM with an instruction that you provide as a string and displays the result."
   ]
  },
  {
   "cell_type": "code",
   "execution_count": 1,
   "id": "cc237f34",
   "metadata": {
    "height": 30
   },
   "outputs": [],
   "source": [
    "from helper_functions import print_llm_response"
   ]
  },
  {
   "cell_type": "markdown",
   "id": "3074c1f9",
   "metadata": {},
   "source": [
    "Basically, you can use that function as if you were asking a chatbot. You just need to provide your instructions as a string. For instance, you can ask \"What is the capital of France?\" using the following code:"
   ]
  },
  {
   "cell_type": "code",
   "execution_count": 2,
   "id": "afcf6686",
   "metadata": {
    "height": 30
   },
   "outputs": [
    {
     "name": "stdout",
     "output_type": "stream",
     "text": [
      "The capital of France is Paris.\n"
     ]
    }
   ],
   "source": [
    "print_llm_response(\"What is the capital of France?\")"
   ]
  },
  {
   "cell_type": "markdown",
   "id": "7e164d69",
   "metadata": {},
   "source": [
    "Let's ask the LLM for the lifestyle description for Otto Matic, whose name is stored in `name`, if he were a `dog_age` years old dog."
   ]
  },
  {
   "cell_type": "code",
   "execution_count": 3,
   "id": "196644ca",
   "metadata": {
    "height": 47
   },
   "outputs": [],
   "source": [
    "name = \"Otto Matic\"\n",
    "dog_age = 21/7"
   ]
  },
  {
   "cell_type": "code",
   "execution_count": 4,
   "id": "ad18f441",
   "metadata": {
    "height": 79
   },
   "outputs": [
    {
     "name": "stdout",
     "output_type": "stream",
     "text": [
      "At 3.0 years old, Otto Matic would be considered a young adult dog. This life stage typically entails high energy levels, a strong interest in play and exploration, and a need for regular exercise and mental stimulation. Young adult dogs may exhibit behaviors such as increased independence, curiosity, and a desire to socialize with other dogs and humans. It is important to provide appropriate outlets for their energy and mental stimulation to help prevent boredom and potential behavior issues.\n"
     ]
    }
   ],
   "source": [
    "print_llm_response(f\"\"\"If {name} were a dog, he would be {dog_age} years old.\n",
    "Describe what life stage that would be for a dog and what that might \n",
    "entail in terms of energy level, interests, and behavior.\"\"\")"
   ]
  },
  {
   "cell_type": "markdown",
   "id": "8349cb53",
   "metadata": {},
   "source": [
    "<b>You just used AI with your own variables!</b> You used an LLM with instructions that included variables you defined in this notebook.\n",
    "\n",
    "<b>Congratulations 🎉🎉🎉</b>"
   ]
  },
  {
   "cell_type": "markdown",
   "id": "51181411",
   "metadata": {},
   "source": [
    "## Variable names restrictions"
   ]
  },
  {
   "cell_type": "markdown",
   "id": "89d94522",
   "metadata": {},
   "source": [
    "The following variable names also have some problems. Try to fix them yourself or use the help from the chatbot."
   ]
  },
  {
   "cell_type": "code",
   "execution_count": 5,
   "id": "af96e951",
   "metadata": {
    "height": 64
   },
   "outputs": [],
   "source": [
    "driver = \"unicorn\"\n",
    "drivers_vehicle = \"colorful, asymmetric dinosaur car\"\n",
    "favorite_planet = \"Pluto\""
   ]
  },
  {
   "cell_type": "markdown",
   "id": "59a3a881",
   "metadata": {},
   "source": [
    "Now, update the next cell with any changes you made in the previous cell."
   ]
  },
  {
   "cell_type": "code",
   "execution_count": 6,
   "id": "02b7e02c",
   "metadata": {
    "height": 62
   },
   "outputs": [
    {
     "name": "stdout",
     "output_type": "stream",
     "text": [
      "Once upon a time in a magical land far, far away, there was a unicorn named Sparkle and a colorful, asymmetric dinosaur car named Roary. They were both determined to win the prestigious Pluto Champion Cup, the most thrilling and challenging race in the entire universe.\n",
      "\n",
      "Sparkle, with her shimmering white coat and rainbow-colored mane, was known for her speed and agility. Roary, with his bright scales and roaring engine, was famous for his daring maneuvers and lightning-fast acceleration.\n",
      "\n",
      "As the race day approached, excitement filled the air. The spectators gathered from all corners of the galaxy to witness the epic showdown between Sparkle and Roary. The race track was lined with twinkling stars and glowing planets, creating a mesmerizing backdrop for the competition.\n",
      "\n",
      "The race began with a deafening roar as Sparkle and Roary zoomed off the starting line, leaving a trail of stardust in their wake. They weaved through asteroid fields, dodged shooting stars, and raced past swirling black holes, each determined to outdo the other.\n",
      "\n",
      "As they neared the finish line, Sparkle and Roary were neck and neck, their hearts pounding with adrenaline. In a final burst of speed, Sparkle surged ahead, her hooves barely touching the ground as she crossed the finish line in a dazzling display of victory.\n",
      "\n",
      "The crowd erupted into cheers and applause as Sparkle was crowned the winner of the Pluto Champion Cup. Roary, though disappointed, congratulated Sparkle on her well-deserved victory, knowing that she had truly earned the title of champion.\n",
      "\n",
      "And so, Sparkle and Roary became the best of friends, united by their love of racing and their shared dream of conquering the stars. Together, they continued to explore the universe, spreading joy and magic wherever they went.\n"
     ]
    }
   ],
   "source": [
    "print_llm_response(f\"\"\"Write me a 300 word children's story about a {driver} racing\n",
    "a {drivers_vehicle} for the {favorite_planet} champion cup.\"\"\")"
   ]
  },
  {
   "cell_type": "markdown",
   "id": "98ec7de7",
   "metadata": {},
   "source": [
    "## Extra practice\n",
    "\n",
    "Try the exercises below to practice the concepts from this lesson. Read the comments in each cell with the instructions for each exercise.\n",
    "\n",
    "<b>Feel free to use the chatbot if you need help.</b>"
   ]
  },
  {
   "cell_type": "code",
   "execution_count": 7,
   "id": "9fb2bd26",
   "metadata": {
    "height": 96
   },
   "outputs": [
    {
     "name": "stdout",
     "output_type": "stream",
     "text": [
      "My most favorite book is 1001 Ways to Wear a Hat, but I also like 2002 Ways to Wear a Scarf.\n"
     ]
    }
   ],
   "source": [
    "# Fix this code\n",
    "favorite_1_book = \"1001 Ways to Wear a Hat\"\n",
    "favorite_2_book = \"2002 Ways to Wear a Scarf\"\n",
    "print(f\"My most favorite book is {favorite_1_book}, but I also like {favorite_2_book}.\")"
   ]
  },
  {
   "cell_type": "code",
   "execution_count": 8,
   "id": "407023e6",
   "metadata": {
    "height": 164
   },
   "outputs": [
    {
     "name": "stdout",
     "output_type": "stream",
     "text": [
      "Verse 1:\n",
      "In Indiana we play euchre all night,\n",
      "Hoosiers gather 'round, the mood is just right.\n",
      "Cards in hand, laughter in the air,\n",
      "A game of strategy, we all play fair.\n",
      "\n",
      "Bridge:\n",
      "Between hands, we share stories and jokes,\n",
      "Bonding over flourless chocolate torte, it's no hoax.\n",
      "\n",
      "Verse 2:\n",
      "The deck is shuffled, the game heats up,\n",
      "Each trick won brings a smile, a hiccup.\n",
      "Euchre champions emerge, hearts beating fast,\n",
      "In this friendly competition, memories will last.\n",
      "\n",
      "Bridge:\n",
      "As the night winds down, we savor each bite,\n",
      "Of that decadent torte, a sweet delight.\n",
      "\n",
      "Verse 3:\n",
      "With cards on the table, friendships are made,\n",
      "In the Hoosier state, where memories never fade.\n",
      "Euchre, Hoosiers, and chocolate torte,\n",
      "A perfect combination, forevermore.\n"
     ]
    }
   ],
   "source": [
    "# Make variables for your favorite game, movie, and food.\n",
    "# Then use print_llm_response to ask the LLM to recommend you\n",
    "# a new song to listen to based on your likes.\n",
    "fave_game = \"euchre\"\n",
    "fave_movie = \"Hoosiers\"\n",
    "fave_food = \"flourless chocolate torte\"\n",
    "\n",
    "print_llm_response(f\"\"\"Write me a 3-verse song, with a bridge between verse 2 and 3, about {fave_game}, {fave_movie}, and {fave_food}.\"\"\")"
   ]
  }
 ],
 "metadata": {
  "kernelspec": {
   "display_name": "Python 3 (ipykernel)",
   "language": "python",
   "name": "python3"
  },
  "language_info": {
   "codemirror_mode": {
    "name": "ipython",
    "version": 3
   },
   "file_extension": ".py",
   "mimetype": "text/x-python",
   "name": "python",
   "nbconvert_exporter": "python",
   "pygments_lexer": "ipython3",
   "version": "3.9.19"
  }
 },
 "nbformat": 4,
 "nbformat_minor": 5
}

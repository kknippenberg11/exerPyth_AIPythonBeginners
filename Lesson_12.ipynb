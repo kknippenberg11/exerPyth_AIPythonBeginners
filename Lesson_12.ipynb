{
 "cells": [
  {
   "cell_type": "markdown",
   "id": "4bd8fbd2-de5c-47bd-bcd9-cbbe8cdc3104",
   "metadata": {},
   "source": [
    "# Lesson 2 - Repeating tasks with for loops"
   ]
  },
  {
   "cell_type": "markdown",
   "id": "e270cc1f",
   "metadata": {},
   "source": [
    "This lesson will introduce you to a very important concept in programming: the `for` loop. A `for` loop is a special code pattern found in many languages that allows you to repeatedly perform actions on all the items in a list in an automated way. Let's take a look by starting with loading some functions."
   ]
  },
  {
   "cell_type": "code",
   "execution_count": 1,
   "id": "41ef33ad-2b5c-40db-a1ab-9f3c689edd55",
   "metadata": {
    "height": 51
   },
   "outputs": [],
   "source": [
    "from helper_functions import print_llm_response, get_llm_response"
   ]
  },
  {
   "cell_type": "markdown",
   "id": "db2a457b",
   "metadata": {},
   "source": [
    "## From previous lesson\n",
    "\n",
    "At the end of last lesson you saw this list of tasks"
   ]
  },
  {
   "cell_type": "code",
   "execution_count": 2,
   "id": "c2f3989f",
   "metadata": {
    "height": 147
   },
   "outputs": [
    {
     "name": "stdout",
     "output_type": "stream",
     "text": [
      "[\"Compose a brief email to my boss explaining that I will be late for tomorrow's meeting.\", 'Write a birthday poem for Monica, celebrating her 44th birthday.', \"Write a 300-word review of the movie 'Aliens'.\"]\n"
     ]
    }
   ],
   "source": [
    "#from previous lesson:\n",
    "list_of_tasks = [\n",
    "    \"Compose a brief email to my boss explaining that I will be late for tomorrow's meeting.\",\n",
    "    \"Write a birthday poem for Monica, celebrating her 44th birthday.\",\n",
    "    \"Write a 300-word review of the movie 'Aliens'.\"\n",
    "]\n",
    "print(list_of_tasks)"
   ]
  },
  {
   "cell_type": "markdown",
   "id": "e5bae794",
   "metadata": {},
   "source": [
    "You passed them one by one to the LLM, repeatedly updated the task variable, then re-executed the function call with this code:"
   ]
  },
  {
   "cell_type": "code",
   "execution_count": 3,
   "id": "9f426b72",
   "metadata": {
    "height": 47
   },
   "outputs": [
    {
     "name": "stdout",
     "output_type": "stream",
     "text": [
      "____________________________________________________________________________________________________\n",
      "Subject: Running Late for Tomorrow's Meeting\n",
      "\n",
      "Hi [Boss's Name],\n",
      "\n",
      "I wanted to let you know that I will be running a few minutes late for tomorrow's meeting. I apologize for any inconvenience this may cause.\n",
      "\n",
      "Thank you for your understanding.\n",
      "\n",
      "Best,\n",
      "[Your Name]\n",
      "____________________________________________________________________________________________________\n",
      "\n",
      "\n"
     ]
    }
   ],
   "source": [
    "task = list_of_tasks[0]\n",
    "print_llm_response(task)"
   ]
  },
  {
   "cell_type": "markdown",
   "id": "c46ed944-05e1-4ae0-a238-f172413b1771",
   "metadata": {},
   "source": [
    "If you wanted to complete all the tasks in your list, you would have to re-write the same code multiple times. Alternatively, you can use a `for` loop."
   ]
  },
  {
   "cell_type": "markdown",
   "id": "b40551bc",
   "metadata": {},
   "source": [
    "## Iterating through task lists with AI"
   ]
  },
  {
   "cell_type": "markdown",
   "id": "58985454-e28e-49c8-9fe9-3b9057bafd08",
   "metadata": {},
   "source": [
    "When you run the cell below you will see how the for loop iterates through the elements in `list_of_tasks`."
   ]
  },
  {
   "cell_type": "code",
   "execution_count": 4,
   "id": "0c05dc28-4833-46ae-aad1-3607fab9cd67",
   "metadata": {
    "height": 47
   },
   "outputs": [
    {
     "name": "stdout",
     "output_type": "stream",
     "text": [
      "Compose a brief email to my boss explaining that I will be late for tomorrow's meeting.\n",
      "Write a birthday poem for Monica, celebrating her 44th birthday.\n",
      "Write a 300-word review of the movie 'Aliens'.\n"
     ]
    }
   ],
   "source": [
    "for task in list_of_tasks:\n",
    "    print(task)"
   ]
  },
  {
   "cell_type": "markdown",
   "id": "e7dedcb5",
   "metadata": {},
   "source": [
    "Here's the code that automatically passes all items in list to `print_llm_response`"
   ]
  },
  {
   "cell_type": "code",
   "execution_count": 5,
   "id": "721136bd",
   "metadata": {
    "height": 47
   },
   "outputs": [
    {
     "name": "stdout",
     "output_type": "stream",
     "text": [
      "____________________________________________________________________________________________________\n",
      "Subject: Running Late for Tomorrow's Meeting\n",
      "\n",
      "Hi [Boss's Name],\n",
      "\n",
      "I wanted to let you know that I will be running a few minutes late for tomorrow's meeting due to an unexpected appointment. I apologize for any inconvenience this may cause and will join the meeting as soon as I can.\n",
      "\n",
      "Thank you for your understanding.\n",
      "\n",
      "Best regards,\n",
      "[Your Name]\n",
      "____________________________________________________________________________________________________\n",
      "\n",
      "\n",
      "____________________________________________________________________________________________________\n",
      "Happy 44th birthday, Monica,\n",
      "May your day be filled with joy and laughter,\n",
      "Another year wiser, another year bolder,\n",
      "Here's to a year ahead that's even brighter and better.\n",
      "____________________________________________________________________________________________________\n",
      "\n",
      "\n",
      "____________________________________________________________________________________________________\n",
      "\"Aliens\" is a sci-fi action masterpiece directed by James Cameron. The film is a sequel to the original \"Alien\" and follows Ellen Ripley, played by Sigourney Weaver, as she returns to the planet LV-426 with a team of marines to confront the deadly xenomorphs. \n",
      "\n",
      "The movie excels in building tension and suspense, with expertly crafted action sequences that keep viewers on the edge of their seats. The special effects, particularly the design of the aliens and the futuristic technology, still hold up well today and add to the immersive experience of the film.\n",
      "\n",
      "Sigourney Weaver delivers a powerful performance as Ripley, showcasing her strength and determination in the face of overwhelming odds. The supporting cast, including Michael Biehn as Corporal Hicks and Bill Paxton as Private Hudson, also deliver memorable performances that add depth to the story.\n",
      "\n",
      "One of the standout aspects of \"Aliens\" is its blend of genres, seamlessly combining elements of horror, sci-fi, and action to create a unique and thrilling cinematic experience. The film also explores themes of motherhood, survival, and the dangers of unchecked corporate greed, adding layers of depth to the narrative.\n",
      "\n",
      "Overall, \"Aliens\" is a must-see film for fans of sci-fi and action movies. Its expert direction, strong performances, and gripping story make it a classic in the genre that continues to captivate audiences decades after its release.\n",
      "____________________________________________________________________________________________________\n",
      "\n",
      "\n"
     ]
    }
   ],
   "source": [
    "for task in list_of_tasks:\n",
    "    print_llm_response(task)"
   ]
  },
  {
   "cell_type": "markdown",
   "id": "f9a7a927",
   "metadata": {},
   "source": [
    "Let's break this down.\n",
    "\n",
    "The `for task in list` pattern works as follows:\n",
    "\n",
    "- `task` is assigned the first item in the list. In this case, it's the string `\"Compose a brief email to my boss explaining that I will be late for tomorrow's meeting.\"`\n",
    "- The next indented line is called a block and contains an action to carry out on `task`. In this example, the string gets passed to the LLM, and the result appears on the screen.\n",
    "- Then the loop starts again. Now, `task` is assigned the string \"Write a birthday poem for Otto, celebrating his 28th birthday.\" It's the same variable, but with a different value.\n",
    "- `get_llm_response` runs again, and so on.\n",
    "\n",
    "Be sure to call out the `:` at the end of the line. Indentation is crucial; if it’s not correct, you'll get an error."
   ]
  },
  {
   "cell_type": "code",
   "execution_count": 7,
   "id": "8516a3dc",
   "metadata": {
    "height": 47
   },
   "outputs": [
    {
     "name": "stdout",
     "output_type": "stream",
     "text": [
      "____________________________________________________________________________________________________\n",
      "Subject: Running Late for Tomorrow's Meeting\n",
      "\n",
      "Hi [Boss's Name],\n",
      "\n",
      "I wanted to let you know that I will be running a few minutes late for tomorrow's meeting. I apologize for any inconvenience this may cause.\n",
      "\n",
      "Thank you for your understanding.\n",
      "\n",
      "Best,\n",
      "[Your Name]\n",
      "____________________________________________________________________________________________________\n",
      "\n",
      "\n",
      "____________________________________________________________________________________________________\n",
      "Happy 44th birthday, Monica,\n",
      "May your day be filled with joy and laughter,\n",
      "Another year wiser, another year bolder,\n",
      "Here's to a year ahead that's even brighter and better.\n",
      "____________________________________________________________________________________________________\n",
      "\n",
      "\n",
      "____________________________________________________________________________________________________\n",
      "\"Aliens\" is a sci-fi action masterpiece directed by James Cameron. The film is a sequel to the original \"Alien\" and follows Ellen Ripley, played by Sigourney Weaver, as she returns to the planet where she first encountered the deadly xenomorphs. The movie is a thrilling rollercoaster ride filled with intense action sequences, suspenseful moments, and groundbreaking special effects.\n",
      "\n",
      "One of the standout aspects of \"Aliens\" is its strong character development. Ripley is a complex and compelling protagonist who is both vulnerable and fiercely determined. The supporting cast, including the tough Colonial Marines, adds depth and diversity to the story. The chemistry between the characters feels authentic, making the audience emotionally invested in their survival.\n",
      "\n",
      "The film's visual effects are ahead of its time, with the alien creatures looking terrifyingly realistic. The tension is palpable throughout, as the characters face off against the relentless xenomorphs in claustrophobic and dark environments. The action sequences are expertly choreographed, keeping viewers on the edge of their seats.\n",
      "\n",
      "Cameron's direction is top-notch, balancing the intense action with moments of quiet reflection. The pacing is tight, never letting up on the suspense. The film's score, composed by James Horner, enhances the tension and adds to the overall atmosphere.\n",
      "\n",
      "Overall, \"Aliens\" is a must-see for fans of sci-fi and action films. It is a thrilling and well-crafted movie that stands the test of time. With its strong performances, impressive special effects, and gripping storyline, \"Aliens\" remains a classic in the genre and a testament to James Cameron's talent as a filmmaker.\n",
      "____________________________________________________________________________________________________\n",
      "\n",
      "\n"
     ]
    }
   ],
   "source": [
    "for task in list_of_tasks:\n",
    "    print_llm_response(task)"
   ]
  },
  {
   "cell_type": "markdown",
   "id": "2d8e58be",
   "metadata": {},
   "source": [
    "<p style=\"background-color:#F5C780; padding:15px\"> 🤖 <b>Use the Chatbot</b>: Explain indentation error and help me fix it in this for loop: <br>\n",
    "for task in list_of_tasks:<br>\n",
    "print_llm_response(task)\n",
    "</p>"
   ]
  },
  {
   "cell_type": "markdown",
   "id": "8fdafdba-1a33-4bbd-9061-6950bd8bc488",
   "metadata": {},
   "source": [
    "## Iteratively updating AI prompts using lists"
   ]
  },
  {
   "cell_type": "markdown",
   "id": "09cf3e07",
   "metadata": {},
   "source": [
    "You can even use lists with for loops to iteratively update more complex prompts with the list items. For instance, let's say that you have a list of ice-cream flavors:"
   ]
  },
  {
   "cell_type": "code",
   "execution_count": 12,
   "id": "385f6ec5",
   "metadata": {
    "height": 132
   },
   "outputs": [],
   "source": [
    "#ice cream flavor example\n",
    "ice_cream_flavors = [\n",
    "    \"Vanilla Bean\",\n",
    "    \"Mudslide\",\n",
    "    \"Cherry Garcia\",\n",
    "    \"Butter Pecan\"\n",
    "]"
   ]
  },
  {
   "cell_type": "markdown",
   "id": "bf5219ea",
   "metadata": {},
   "source": [
    "You can use a for loop to iterate through the flavors and create a captivating description for each of them."
   ]
  },
  {
   "cell_type": "code",
   "execution_count": 13,
   "id": "d732762f",
   "metadata": {
    "height": 115
   },
   "outputs": [
    {
     "name": "stdout",
     "output_type": "stream",
     "text": [
      "____________________________________________________________________________________________________\n",
      "Vanilla Bean: Indulge in the pure essence of creamy vanilla with our exquisite Vanilla Bean ice cream. Made with real vanilla beans for a rich and aromatic flavor experience that will leave you craving more.\n",
      "____________________________________________________________________________________________________\n",
      "\n",
      "\n",
      "____________________________________________________________________________________________________\n",
      "Indulge in the rich and decadent experience of Mudslide ice cream - a luscious blend of chocolate, coffee, and velvety swirls that will transport your taste buds to a world of pure indulgence.\n",
      "____________________________________________________________________________________________________\n",
      "\n",
      "\n",
      "____________________________________________________________________________________________________\n",
      "Indulge in the sweet and tangy delight of Cherry Garcia - a luscious blend of cherry ice cream with chunks of decadent dark chocolate. Satisfy your cravings with every creamy spoonful of this iconic flavor.\n",
      "____________________________________________________________________________________________________\n",
      "\n",
      "\n",
      "____________________________________________________________________________________________________\n",
      "Indulge in the rich and creamy goodness of our Butter Pecan ice cream, where smooth buttery notes dance with crunchy pecan pieces for a truly decadent treat.\n",
      "____________________________________________________________________________________________________\n",
      "\n",
      "\n"
     ]
    }
   ],
   "source": [
    "for flavor in ice_cream_flavors:\n",
    "    prompt = f\"\"\"For each ice cream flavor listed below, \n",
    "    provide a captivating description that could be used for promotional purposes.\n",
    "    Flavor: {flavor}\n",
    "    \"\"\"        \n",
    "    print_llm_response(prompt)"
   ]
  },
  {
   "cell_type": "markdown",
   "id": "d3f3ead6",
   "metadata": {},
   "source": [
    "Now that you know how to use lists, you can even save the promortional descriptions to another list using `.append()`:"
   ]
  },
  {
   "cell_type": "code",
   "execution_count": 15,
   "id": "db66a442",
   "metadata": {
    "height": 200
   },
   "outputs": [],
   "source": [
    "#saving results to a list\n",
    "promotional_descriptions = []\n",
    "for flavor in ice_cream_flavors:\n",
    "    prompt = f\"\"\"For the ice cream flavor listed below, \n",
    "    provide a captivating description that could be used for promotional purposes.\n",
    "\n",
    "    Flavor: {flavor}\n",
    "\n",
    "    \"\"\"\n",
    "    description = get_llm_response(prompt)\n",
    "    promotional_descriptions.append(description)"
   ]
  },
  {
   "cell_type": "markdown",
   "id": "ebdbcfa5",
   "metadata": {},
   "source": [
    "After you run that code, you should be able to access the promotional descriptions for each of your ice-cream flavors."
   ]
  },
  {
   "cell_type": "code",
   "execution_count": 16,
   "id": "cad94172",
   "metadata": {
    "height": 30
   },
   "outputs": [
    {
     "name": "stdout",
     "output_type": "stream",
     "text": [
      "['Indulge in the timeless elegance of our Vanilla Bean ice cream. Made with real vanilla beans, this classic flavor is a symphony of rich, creamy goodness that will transport your taste buds to pure bliss. Treat yourself to a scoop of pure delight with every bite.', 'Indulge in the rich and decadent experience of our Mudslide ice cream. Swirls of chocolate, coffee, and Irish cream come together in a velvety smooth treat that will transport your taste buds to a world of pure indulgence. Satisfy your cravings with every spoonful of this luxurious flavor.', \"Indulge in the sweet symphony of Cherry Garcia - a delightful blend of rich cherry ice cream, decadent chunks of dark chocolate, and swirls of luscious cherry sauce. Satisfy your cravings with every spoonful of this iconic flavor that's sure to tantalize your taste buds.\", 'Indulge in the rich and creamy goodness of our Butter Pecan ice cream. Each spoonful is a delightful blend of buttery sweetness and crunchy pecans, creating a truly irresistible treat that will leave your taste buds craving more. Treat yourself to a scoop of pure decadence with our Butter Pecan ice cream today.']\n"
     ]
    }
   ],
   "source": [
    "print(promotional_descriptions)"
   ]
  },
  {
   "cell_type": "markdown",
   "id": "7135f13d-0f36-4de4-9365-bdadb8e6d611",
   "metadata": {},
   "source": [
    "## Extra practice"
   ]
  },
  {
   "cell_type": "markdown",
   "id": "c01cc56d-92c7-4632-8cf9-aef3f9f9e3c7",
   "metadata": {},
   "source": [
    "Please go through the exercises in the cells below if you want some extra practice for the topics you covered in this lesson."
   ]
  },
  {
   "cell_type": "code",
   "execution_count": 19,
   "id": "f5a19e85-cd80-4e02-a5e1-762284bd27b6",
   "metadata": {
    "height": 183
   },
   "outputs": [
    {
     "name": "stdout",
     "output_type": "stream",
     "text": [
      "Chocolate\n",
      "Mint Chocolate Chip\n"
     ]
    }
   ],
   "source": [
    "# Fix the following code.\n",
    "# It should print the flavors in\n",
    "# ice_cream_flavors one by one.\n",
    "\n",
    "ice_cream_flavors = [\"Chocolate\", \"Mint Chocolate Chip\"]\n",
    "\n",
    "### EDIT THE FOLLOWING CODE ###\n",
    "for flavor in ice_cream_flavors:\n",
    "    print(flavor)\n",
    "### --------------- ###"
   ]
  },
  {
   "cell_type": "code",
   "execution_count": 20,
   "id": "7b7480c4-ae67-42bd-8cac-189f1f087053",
   "metadata": {
    "height": 200
   },
   "outputs": [
    {
     "name": "stdout",
     "output_type": "stream",
     "text": [
      "____________________________________________________________________________________________________\n",
      "Sabor: Vainilla\n",
      "____________________________________________________________________________________________________\n",
      "\n",
      "\n",
      "____________________________________________________________________________________________________\n",
      "Sabor: Fresa\n",
      "____________________________________________________________________________________________________\n",
      "\n",
      "\n"
     ]
    }
   ],
   "source": [
    "# Translate the flavors in ice_cream_flavors to Spanish\n",
    "ice_cream_flavors = [\"Vanilla\", \"Strawberry\"]\n",
    "\n",
    "for flavor in ice_cream_flavors:\n",
    "    ### EDIT THE FOLLOWING CODE ###\n",
    "    #Hint: you only need to add one or two sentences to the prompt\n",
    "    prompt = f\"\"\"Translate each ice cream flavor listed below into Spanish. \n",
    "    Flavor: {flavor}\n",
    "    \"\"\"\n",
    "    ### --------------- ###\n",
    "    print_llm_response(prompt)"
   ]
  },
  {
   "cell_type": "code",
   "execution_count": 27,
   "id": "6394bb74-a839-4732-8dbf-1b96bd8e97f9",
   "metadata": {
    "height": 302
   },
   "outputs": [
    {
     "name": "stdout",
     "output_type": "stream",
     "text": [
      "['Apple', 'Weather', 'Newspaper']\n"
     ]
    }
   ],
   "source": [
    "# Write code to get a list with \n",
    "# words without typos\n",
    "\n",
    "words_with_typos = [\"Aple\", \"Wether\", \"Newpaper\"]\n",
    "words_without_typos = []\n",
    "\n",
    "for word in words_with_typos:\n",
    "    prompt = f\"\"\"Fix the spelling mistake in the following word: {word}\n",
    "    Provide only the word.\n",
    "    \"\"\"\n",
    "    correct_word = get_llm_response(prompt)\n",
    "    ### WRITE CODE HERE  ###\n",
    "    #Hint: Append the correct_word to the words_without_typos list \n",
    "    ### --------------- ###\n",
    "\n",
    "    words_without_typos.append(correct_word)\n",
    "print(words_without_typos)"
   ]
  }
 ],
 "metadata": {
  "kernelspec": {
   "display_name": "Python 3 (ipykernel)",
   "language": "python",
   "name": "python3"
  },
  "language_info": {
   "codemirror_mode": {
    "name": "ipython",
    "version": 3
   },
   "file_extension": ".py",
   "mimetype": "text/x-python",
   "name": "python",
   "nbconvert_exporter": "python",
   "pygments_lexer": "ipython3",
   "version": "3.9.19"
  }
 },
 "nbformat": 4,
 "nbformat_minor": 5
}
